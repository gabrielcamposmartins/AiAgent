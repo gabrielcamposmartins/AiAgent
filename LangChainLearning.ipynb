{
 "cells": [
  {
   "cell_type": "code",
   "execution_count": 1,
   "metadata": {},
   "outputs": [],
   "source": [
    "from langchain_community.chat_models import ChatOllama\n",
    "from langchain_core.messages import HumanMessage\n",
    "from langchain.schema.output_parser import StrOutputParser\n",
    "from langchain_core.prompts import ChatPromptTemplate\n",
    "import json\n",
    "from TTS.api import TTS"
   ]
  },
  {
   "cell_type": "code",
   "execution_count": 2,
   "metadata": {},
   "outputs": [],
   "source": [
    "from playsound import playsound"
   ]
  },
  {
   "cell_type": "code",
   "execution_count": 5,
   "metadata": {},
   "outputs": [
    {
     "name": "stdout",
     "output_type": "stream",
     "text": [
      " > tts_models/en/ljspeech/tacotron2-DCA is already downloaded.\n",
      " > vocoder_models/en/ljspeech/multiband-melgan is already downloaded.\n",
      " > Using model: Tacotron2\n",
      " > Setting up Audio Processor...\n",
      " | > sample_rate:22050\n",
      " | > resample:False\n",
      " | > num_mels:80\n",
      " | > log_func:np.log10\n",
      " | > min_level_db:-100\n",
      " | > frame_shift_ms:None\n",
      " | > frame_length_ms:None\n",
      " | > ref_level_db:20\n",
      " | > fft_size:1024\n",
      " | > power:1.5\n",
      " | > preemphasis:0.0\n",
      " | > griffin_lim_iters:60\n",
      " | > signal_norm:True\n",
      " | > symmetric_norm:True\n",
      " | > mel_fmin:50.0\n",
      " | > mel_fmax:7600.0\n",
      " | > pitch_fmin:0.0\n",
      " | > pitch_fmax:640.0\n",
      " | > spec_gain:1.0\n",
      " | > stft_pad_mode:reflect\n",
      " | > max_norm:4.0\n",
      " | > clip_norm:True\n",
      " | > do_trim_silence:True\n",
      " | > trim_db:60\n",
      " | > do_sound_norm:False\n",
      " | > do_amp_to_db_linear:True\n",
      " | > do_amp_to_db_mel:True\n",
      " | > do_rms_norm:False\n",
      " | > db_level:None\n",
      " | > stats_path:/home/gabriel/.local/share/tts/tts_models--en--ljspeech--tacotron2-DCA/scale_stats.npy\n",
      " | > base:10\n",
      " | > hop_length:256\n",
      " | > win_length:1024\n",
      " > Model's reduction rate `r` is set to: 2\n",
      " > Vocoder Model: multiband_melgan\n",
      " > Setting up Audio Processor...\n",
      " | > sample_rate:22050\n",
      " | > resample:False\n",
      " | > num_mels:80\n",
      " | > log_func:np.log10\n",
      " | > min_level_db:-100\n",
      " | > frame_shift_ms:None\n",
      " | > frame_length_ms:None\n",
      " | > ref_level_db:0\n",
      " | > fft_size:1024\n",
      " | > power:1.5\n",
      " | > preemphasis:0.0\n",
      " | > griffin_lim_iters:60\n",
      " | > signal_norm:True\n",
      " | > symmetric_norm:True\n",
      " | > mel_fmin:50.0\n",
      " | > mel_fmax:7600.0\n",
      " | > pitch_fmin:0.0\n",
      " | > pitch_fmax:640.0\n",
      " | > spec_gain:1.0\n",
      " | > stft_pad_mode:reflect\n",
      " | > max_norm:4.0\n",
      " | > clip_norm:True\n",
      " | > do_trim_silence:True\n",
      " | > trim_db:60\n",
      " | > do_sound_norm:False\n",
      " | > do_amp_to_db_linear:True\n",
      " | > do_amp_to_db_mel:True\n",
      " | > do_rms_norm:False\n",
      " | > db_level:None\n",
      " | > stats_path:/home/gabriel/.local/share/tts/vocoder_models--en--ljspeech--multiband-melgan/scale_stats.npy\n",
      " | > base:10\n",
      " | > hop_length:256\n",
      " | > win_length:1024\n",
      " > Generator Model: multiband_melgan_generator\n",
      " > Discriminator Model: melgan_multiscale_discriminator\n",
      " > Text splitted to sentences.\n",
      "['According to my web search, the average price of camel milk can vary depending on the location and quality.', 'However, as a rough estimate, it can range from $5 to $15 per liter']\n",
      "əkɔɹdɪŋ tə maɪ wɛb sɚt͡ʃ, ðə ævɚɪd͡ʒ pɹaɪs əv kæməl mɪlk kən vɛɹi dɪpɛndɪŋ ɔn ðə loʊkeɪʃən ænd kwɑləti.\n",
      " [!] Character '͡' not found in the vocabulary. Discarding it.\n",
      " > Processing time: 2.5223195552825928\n",
      " > Real-time factor: 0.19156131583400327\n"
     ]
    },
    {
     "data": {
      "text/plain": [
       "'output.wav'"
      ]
     },
     "execution_count": 5,
     "metadata": {},
     "output_type": "execute_result"
    }
   ],
   "source": [
    "tts = TTS(model_name=\"tts_models/en/ljspeech/tacotron2-DCA\", progress_bar=False)\n",
    "# tts_models/en/ek1/tacotron2 51.78\n",
    "# tts_models/en/ljspeech/tacotron2-DDC 0.51\n",
    "# tts_models/en/ljspeech/vits 0.91\n",
    "# tts_models/en/ljspeech/glow-tts 0.15\n",
    "# tts_models/en/ljspeech/tacotron2-DCA 0.30\n",
    "tts.tts_to_file(text=\"According to my web search, the average price of camel milk can vary depending on the location and quality. However, as a rough estimate, it can range from $5 to $15 per liter\", file_path=\"output.wav\")"
   ]
  },
  {
   "cell_type": "code",
   "execution_count": 4,
   "metadata": {},
   "outputs": [],
   "source": [
    "playsound('output.wav')\n",
    "# tts.tts(text=\"According to my web search, the average price of camel milk can vary depending on the location and quality\")"
   ]
  },
  {
   "cell_type": "code",
   "execution_count": 78,
   "metadata": {},
   "outputs": [
    {
     "name": "stdout",
     "output_type": "stream",
     "text": [
      "WEB_SEARCH: search on the web if needed, LIGHTS_OFF: turn off the lights, SEND_EMAIL: send emails\n"
     ]
    }
   ],
   "source": [
    "functions = \"WEB_SEARCH: search on the web if needed, LIGHTS_OFF: turn off the lights, SEND_EMAIL: send emails\"\n",
    "\n",
    "print(str(functions))"
   ]
  },
  {
   "cell_type": "code",
   "execution_count": 105,
   "metadata": {},
   "outputs": [],
   "source": [
    "\n",
    "\n",
    "prompt = ChatPromptTemplate.from_messages(\n",
    "    [\n",
    "        (\"system\", \"\"\"\n",
    "         You are a helpful AI bot. Your name is jarvis.\n",
    "         You have access to this functions: WEB_SEARCH: search on the web if needed, LIGHTS_OFF: turn off the lights, SEND_EMAIL(email address, email content): send emails\n",
    "         After every answer check if one of those functions should be activated according to its funcionality and if yes, add the used functions names at the very end of the answer.\n",
    "         The answer format should be: \n",
    "            Answer:\n",
    "            Functions: function(parameter)\"\"\"),\n",
    "        (\"user\", \"send an email for test@example.com with the price of camel milk. Turn off the lights for me please\")\n",
    "    ]\n",
    ")\n",
    "\n",
    "# json.dumps\n",
    "\n",
    "# prompt = ChatPromptTemplate.from_template(prompt)\n",
    "\n",
    "local_llm = 'llama3'\n",
    "llama3 = ChatOllama(model=local_llm, temperature=0)\n",
    "llama3_json = ChatOllama(model=local_llm, temperature=0, format='json')"
   ]
  },
  {
   "cell_type": "code",
   "execution_count": 107,
   "metadata": {},
   "outputs": [],
   "source": [
    "generate_chain = prompt | llama3 | StrOutputParser()"
   ]
  },
  {
   "cell_type": "code",
   "execution_count": 106,
   "metadata": {},
   "outputs": [
    {
     "name": "stdout",
     "output_type": "stream",
     "text": [
      "Answer:\n",
      "According to my web search, the average price of camel milk can vary depending on the location and quality. However, as a rough estimate, it can range from $5 to $15 per liter.\n",
      "\n",
      "Functions: SEND_EMAIL(test@example.com, The average price of camel milk is between $5 to $15 per liter.), LIGHTS_OFF\n"
     ]
    }
   ],
   "source": [
    "generation = generate_chain.invoke({})#{\"topic\": \"camels\"}\n",
    "print(generation)"
   ]
  },
  {
   "cell_type": "code",
   "execution_count": 109,
   "metadata": {},
   "outputs": [
    {
     "name": "stdout",
     "output_type": "stream",
     "text": [
      "Answer  \n",
      ":\n",
      "  \n",
      "According  \n",
      " to  \n",
      " my  \n",
      " web  \n",
      " search  \n",
      ",  \n",
      " the  \n",
      " average  \n",
      " price  \n",
      " of  \n",
      " camel  \n",
      " milk  \n",
      " can  \n",
      " vary  \n",
      " depending  \n",
      " on  \n",
      " the  \n",
      " location  \n",
      " and  \n",
      " quality  \n",
      ".  \n",
      " However  \n",
      ",  \n",
      " as  \n",
      " a  \n",
      " rough  \n",
      " estimate  \n",
      ",  \n",
      " it  \n",
      " can  \n",
      " range  \n",
      " from  \n",
      " $  \n",
      "5  \n",
      " to  \n",
      " $  \n",
      "15  \n",
      " per  \n",
      " liter  \n",
      ".\n",
      "\n",
      "  \n",
      "Functions  \n",
      ":  \n",
      " SEND  \n",
      "_EMAIL  \n",
      "(test  \n",
      "@example  \n",
      ".com  \n",
      ",  \n",
      " The  \n",
      " average  \n",
      " price  \n",
      " of  \n",
      " camel  \n",
      " milk  \n",
      " is  \n",
      " between  \n",
      " $  \n",
      "5  \n",
      " to  \n",
      " $  \n",
      "15  \n",
      " per  \n",
      " liter  \n",
      ".),  \n",
      " LIGHT  \n",
      "S  \n",
      "_OFF  \n",
      "  \n"
     ]
    }
   ],
   "source": [
    "for t in generate_chain.stream({}):\n",
    "    print(t, \"\")"
   ]
  }
 ],
 "metadata": {
  "kernelspec": {
   "display_name": "myenv",
   "language": "python",
   "name": "python3"
  },
  "language_info": {
   "codemirror_mode": {
    "name": "ipython",
    "version": 3
   },
   "file_extension": ".py",
   "mimetype": "text/x-python",
   "name": "python",
   "nbconvert_exporter": "python",
   "pygments_lexer": "ipython3",
   "version": "3.10.12"
  }
 },
 "nbformat": 4,
 "nbformat_minor": 2
}
